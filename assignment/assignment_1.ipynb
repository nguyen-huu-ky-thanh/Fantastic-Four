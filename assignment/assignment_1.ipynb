{
  "nbformat": 4,
  "nbformat_minor": 0,
  "metadata": {
    "colab": {
      "provenance": [],
      "toc_visible": true,
      "collapsed_sections": [],
      "authorship_tag": "ABX9TyMHnJc2Ji2uu6Kr/vh+wDtO",
      "include_colab_link": true
    },
    "kernelspec": {
      "name": "python3",
      "display_name": "Python 3"
    },
    "language_info": {
      "name": "python"
    }
  },
  "cells": [
    {
      "cell_type": "markdown",
      "metadata": {
        "id": "view-in-github",
        "colab_type": "text"
      },
      "source": [
        "<a href=\"https://colab.research.google.com/github/nguyen-huu-ky-thanh/Fantastic-Four/blob/main/assignment/assignment_1.ipynb\" target=\"_parent\"><img src=\"https://colab.research.google.com/assets/colab-badge.svg\" alt=\"Open In Colab\"/></a>"
      ]
    },
    {
      "cell_type": "markdown",
      "source": [
        "Task 01 – Hello KCCS"
      ],
      "metadata": {
        "id": "UOwjFWOulVNm"
      }
    },
    {
      "cell_type": "code",
      "execution_count": 37,
      "metadata": {
        "colab": {
          "base_uri": "https://localhost:8080/"
        },
        "id": "xeShUovilEgz",
        "outputId": "484c3a93-15e9-4e94-b152-d098e3537d73"
      },
      "outputs": [
        {
          "name": "stdout",
          "output_type": "stream",
          "text": [
            "Enter your name: thanh\n"
          ]
        }
      ],
      "source": [
        "name = input(\"Enter your name: \")\n",
        "print(\"Hi \" + name + \"! Nice to meet you!\")\n",
        "print(\"Welcome to the Programing Course!\")"
      ]
    },
    {
      "cell_type": "markdown",
      "source": [
        "Task 02 – Reversed Words"
      ],
      "metadata": {
        "id": "GIbNyef4mSOO"
      }
    },
    {
      "cell_type": "code",
      "source": [
        "#loop\n",
        "original = input()\n",
        "reverse = \"\"\n",
        "for i in original:\n",
        "  reverse = i + reverse\n",
        "print(reverse)"
      ],
      "metadata": {
        "colab": {
          "base_uri": "https://localhost:8080/"
        },
        "id": "LrnpOZPbmOaI",
        "outputId": "1d22a4c4-b10f-4fc5-ba66-d238ae080bc2"
      },
      "execution_count": null,
      "outputs": [
        {
          "output_type": "stream",
          "name": "stdout",
          "text": [
            "thanh\n",
            "hnaht\n"
          ]
        }
      ]
    },
    {
      "cell_type": "code",
      "source": [
        "#index\n",
        "original = input()\n",
        "reverse = original[::-1]\n",
        "print(reverse)"
      ],
      "metadata": {
        "colab": {
          "base_uri": "https://localhost:8080/"
        },
        "id": "D1BVoJ1YoNlb",
        "outputId": "5a1bc476-f723-485c-f6b4-ae1ce4c9cf69"
      },
      "execution_count": null,
      "outputs": [
        {
          "output_type": "stream",
          "name": "stdout",
          "text": [
            "thanh\n",
            "hnaht\n"
          ]
        }
      ]
    },
    {
      "cell_type": "markdown",
      "source": [
        "Task 03 – Fibonacci Numbers"
      ],
      "metadata": {
        "id": "yeH9uUGBv7pA"
      }
    },
    {
      "cell_type": "code",
      "source": [
        "import getpass\n",
        "#upper_bound = int(input())           #user input is shown with the Fibonacci numbers\n",
        "upper_bound = int(getpass.getpass())  #hide user input\n",
        "n1, n2 = 0, 1\n",
        "count = 0\n",
        "if upper_bound <= 0:\n",
        "   print(\"False\")\n",
        "elif upper_bound == 1:\n",
        "   print(n1)\n",
        "else:\n",
        "   while count < upper_bound:\n",
        "       print(n1)\n",
        "       nth = n1 + n2\n",
        "       n1 = n2\n",
        "       n2 = nth\n",
        "       count += 1"
      ],
      "metadata": {
        "colab": {
          "base_uri": "https://localhost:8080/"
        },
        "id": "Y8ELRqSIv9p4",
        "outputId": "1fe8a017-9d59-498c-ec57-2e4a3ec7bc2a"
      },
      "execution_count": null,
      "outputs": [
        {
          "output_type": "stream",
          "name": "stdout",
          "text": [
            "··········\n",
            "0\n",
            "1\n",
            "1\n",
            "2\n",
            "3\n"
          ]
        }
      ]
    },
    {
      "cell_type": "markdown",
      "source": [
        "Task 04 – Selective Printing"
      ],
      "metadata": {
        "id": "grH5BhMXcAll"
      }
    },
    {
      "cell_type": "code",
      "source": [
        "import getpass\n",
        "upper_bound = int(getpass.getpass())\n",
        "if upper_bound < 0:\n",
        "   print(\"Please choose a non-negative integer\")\n",
        "else:\n",
        "   for i in range(upper_bound + 1):\n",
        "     if i == 0 or i %3 != 0:\n",
        "       print(i)"
      ],
      "metadata": {
        "colab": {
          "base_uri": "https://localhost:8080/"
        },
        "id": "7bfgkikPcCbI",
        "outputId": "f7a86054-1b24-4b20-d4e5-07e819d9f8a3"
      },
      "execution_count": null,
      "outputs": [
        {
          "output_type": "stream",
          "name": "stdout",
          "text": [
            "··········\n",
            "0\n",
            "1\n",
            "2\n",
            "4\n",
            "5\n",
            "7\n",
            "8\n",
            "10\n"
          ]
        }
      ]
    },
    {
      "cell_type": "markdown",
      "source": [
        "Task 05 – Triangle Checking"
      ],
      "metadata": {
        "id": "CUV42qE7j09_"
      }
    },
    {
      "cell_type": "code",
      "source": [
        "def triangle_check(a, b, c):\n",
        "    if a + b >= c and b + c >= a and c + a >= b:\n",
        "      if a == b == c:\n",
        "        print(\"These sides form an equilateral triangle\")\n",
        "      elif a != b != c:\n",
        "        print(\"These sides form a scalene triangle\")\n",
        "      else:\n",
        "        print(\"These sides form an isosceles triangle\")       \n",
        "    else:\n",
        "        print(\"These sides cannot form a triangle\")\n",
        "        \n",
        "triangle_check(\n",
        "    a = float(input(\"Length of side a: \")),\n",
        "    b = float(input(\"Length of side b: \")),\n",
        "    c = float(input(\"Length of side c: \"))\n",
        ")"
      ],
      "metadata": {
        "id": "u3QflmkRqmrk",
        "outputId": "803fab24-0fea-407d-8c29-21210bfe5162",
        "colab": {
          "base_uri": "https://localhost:8080/",
          "height": 399
        }
      },
      "execution_count": 36,
      "outputs": [
        {
          "output_type": "error",
          "ename": "KeyboardInterrupt",
          "evalue": "ignored",
          "traceback": [
            "\u001b[0;31m---------------------------------------------------------------------------\u001b[0m",
            "\u001b[0;31mKeyboardInterrupt\u001b[0m                         Traceback (most recent call last)",
            "\u001b[0;32m<ipython-input-36-1ac891f91c8a>\u001b[0m in \u001b[0;36m<module>\u001b[0;34m\u001b[0m\n\u001b[1;32m     11\u001b[0m \u001b[0;34m\u001b[0m\u001b[0m\n\u001b[1;32m     12\u001b[0m triangle_check(\n\u001b[0;32m---> 13\u001b[0;31m     \u001b[0ma\u001b[0m \u001b[0;34m=\u001b[0m \u001b[0mfloat\u001b[0m\u001b[0;34m(\u001b[0m\u001b[0minput\u001b[0m\u001b[0;34m(\u001b[0m\u001b[0;34m\"Length of side a: \"\u001b[0m\u001b[0;34m)\u001b[0m\u001b[0;34m)\u001b[0m\u001b[0;34m,\u001b[0m\u001b[0;34m\u001b[0m\u001b[0;34m\u001b[0m\u001b[0m\n\u001b[0m\u001b[1;32m     14\u001b[0m     \u001b[0mb\u001b[0m \u001b[0;34m=\u001b[0m \u001b[0mfloat\u001b[0m\u001b[0;34m(\u001b[0m\u001b[0minput\u001b[0m\u001b[0;34m(\u001b[0m\u001b[0;34m\"Length of side b: \"\u001b[0m\u001b[0;34m)\u001b[0m\u001b[0;34m)\u001b[0m\u001b[0;34m,\u001b[0m\u001b[0;34m\u001b[0m\u001b[0;34m\u001b[0m\u001b[0m\n\u001b[1;32m     15\u001b[0m     \u001b[0mc\u001b[0m \u001b[0;34m=\u001b[0m \u001b[0mfloat\u001b[0m\u001b[0;34m(\u001b[0m\u001b[0minput\u001b[0m\u001b[0;34m(\u001b[0m\u001b[0;34m\"Length of side c: \"\u001b[0m\u001b[0;34m)\u001b[0m\u001b[0;34m)\u001b[0m\u001b[0;34m\u001b[0m\u001b[0;34m\u001b[0m\u001b[0m\n",
            "\u001b[0;32m/usr/local/lib/python3.7/dist-packages/ipykernel/kernelbase.py\u001b[0m in \u001b[0;36mraw_input\u001b[0;34m(self, prompt)\u001b[0m\n\u001b[1;32m    861\u001b[0m             \u001b[0mself\u001b[0m\u001b[0;34m.\u001b[0m\u001b[0m_parent_ident\u001b[0m\u001b[0;34m,\u001b[0m\u001b[0;34m\u001b[0m\u001b[0;34m\u001b[0m\u001b[0m\n\u001b[1;32m    862\u001b[0m             \u001b[0mself\u001b[0m\u001b[0;34m.\u001b[0m\u001b[0m_parent_header\u001b[0m\u001b[0;34m,\u001b[0m\u001b[0;34m\u001b[0m\u001b[0;34m\u001b[0m\u001b[0m\n\u001b[0;32m--> 863\u001b[0;31m             \u001b[0mpassword\u001b[0m\u001b[0;34m=\u001b[0m\u001b[0;32mFalse\u001b[0m\u001b[0;34m,\u001b[0m\u001b[0;34m\u001b[0m\u001b[0;34m\u001b[0m\u001b[0m\n\u001b[0m\u001b[1;32m    864\u001b[0m         )\n\u001b[1;32m    865\u001b[0m \u001b[0;34m\u001b[0m\u001b[0m\n",
            "\u001b[0;32m/usr/local/lib/python3.7/dist-packages/ipykernel/kernelbase.py\u001b[0m in \u001b[0;36m_input_request\u001b[0;34m(self, prompt, ident, parent, password)\u001b[0m\n\u001b[1;32m    902\u001b[0m             \u001b[0;32mexcept\u001b[0m \u001b[0mKeyboardInterrupt\u001b[0m\u001b[0;34m:\u001b[0m\u001b[0;34m\u001b[0m\u001b[0;34m\u001b[0m\u001b[0m\n\u001b[1;32m    903\u001b[0m                 \u001b[0;31m# re-raise KeyboardInterrupt, to truncate traceback\u001b[0m\u001b[0;34m\u001b[0m\u001b[0;34m\u001b[0m\u001b[0;34m\u001b[0m\u001b[0m\n\u001b[0;32m--> 904\u001b[0;31m                 \u001b[0;32mraise\u001b[0m \u001b[0mKeyboardInterrupt\u001b[0m\u001b[0;34m(\u001b[0m\u001b[0;34m\"Interrupted by user\"\u001b[0m\u001b[0;34m)\u001b[0m \u001b[0;32mfrom\u001b[0m \u001b[0;32mNone\u001b[0m\u001b[0;34m\u001b[0m\u001b[0;34m\u001b[0m\u001b[0m\n\u001b[0m\u001b[1;32m    905\u001b[0m             \u001b[0;32mexcept\u001b[0m \u001b[0mException\u001b[0m \u001b[0;32mas\u001b[0m \u001b[0me\u001b[0m\u001b[0;34m:\u001b[0m\u001b[0;34m\u001b[0m\u001b[0;34m\u001b[0m\u001b[0m\n\u001b[1;32m    906\u001b[0m                 \u001b[0mself\u001b[0m\u001b[0;34m.\u001b[0m\u001b[0mlog\u001b[0m\u001b[0;34m.\u001b[0m\u001b[0mwarning\u001b[0m\u001b[0;34m(\u001b[0m\u001b[0;34m\"Invalid Message:\"\u001b[0m\u001b[0;34m,\u001b[0m \u001b[0mexc_info\u001b[0m\u001b[0;34m=\u001b[0m\u001b[0;32mTrue\u001b[0m\u001b[0;34m)\u001b[0m\u001b[0;34m\u001b[0m\u001b[0;34m\u001b[0m\u001b[0m\n",
            "\u001b[0;31mKeyboardInterrupt\u001b[0m: Interrupted by user"
          ]
        }
      ]
    },
    {
      "cell_type": "markdown",
      "source": [
        "Task 06 – Decimal to Octal Conversion"
      ],
      "metadata": {
        "id": "iJ5YaNPH3TVT"
      }
    },
    {
      "cell_type": "code",
      "source": [
        "def decmal_to_octal(input_number = int(input(\"Please choose a non-negative integer: \"))):\n",
        "  octal = [0] * 100\n",
        "  while input_number != 0:\n",
        "    octal[i] = input_number % 8\n",
        "    input_number = input_number // 8\n",
        "    i += 1\n",
        "\n",
        "  for j in range(i - 1, -1, -1):\n",
        "    print(octal[j], end = \"\")"
      ],
      "metadata": {
        "id": "ujrfHryHWLul"
      },
      "execution_count": null,
      "outputs": []
    },
    {
      "cell_type": "code",
      "source": [
        "from io import StringIO\n",
        "import sys\n",
        "old_stdout = sys.stdout\n",
        "new_stdout = StringIO()\n",
        "sys.stdout = new_stdout\n",
        "\n",
        "def decmal_to_octal(input_number):\n",
        "  if input_number >= 0:\n",
        "    while input_number % 8 != 0:\n",
        "      remainder = input_number % 8\n",
        "      input_number = input_number//8\n",
        "      print(remainder, end = \"\")   \n",
        "  else:\n",
        "    print(\"Please choose a non-negative integer\")\n",
        "\n",
        "decmal_to_octal(input_number = int(input(\"Please choose a non-negative integer: \")))\n",
        "print_output = new_stdout.getvalue()\n",
        "print_output[::-1]\n",
        "\n",
        "#restore print\n",
        "# sys.stdout = old_stdout"
      ],
      "metadata": {
        "id": "at9zRoNnL1N0",
        "outputId": "7346077f-bdd2-4d0a-a8e2-6f93c9343d1d",
        "colab": {
          "base_uri": "https://localhost:8080/",
          "height": 52
        }
      },
      "execution_count": 31,
      "outputs": [
        {
          "name": "stdout",
          "output_type": "stream",
          "text": [
            "Please choose a non-negative integer: 142\n"
          ]
        },
        {
          "output_type": "execute_result",
          "data": {
            "text/plain": [
              "'216'"
            ],
            "application/vnd.google.colaboratory.intrinsic+json": {
              "type": "string"
            }
          },
          "metadata": {},
          "execution_count": 31
        }
      ]
    },
    {
      "cell_type": "code",
      "source": [],
      "metadata": {
        "id": "aFh3WuAnIfIW"
      },
      "execution_count": null,
      "outputs": []
    }
  ]
}
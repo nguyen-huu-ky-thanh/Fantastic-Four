{
  "nbformat": 4,
  "nbformat_minor": 0,
  "metadata": {
    "colab": {
      "provenance": [],
      "toc_visible": true,
      "collapsed_sections": [],
      "authorship_tag": "ABX9TyPqN2CReIcbqyMCQpQCRVT1",
      "include_colab_link": true
    },
    "kernelspec": {
      "name": "python3",
      "display_name": "Python 3"
    },
    "language_info": {
      "name": "python"
    }
  },
  "cells": [
    {
      "cell_type": "markdown",
      "metadata": {
        "id": "view-in-github",
        "colab_type": "text"
      },
      "source": [
        "<a href=\"https://colab.research.google.com/github/nguyen-huu-ky-thanh/Fantastic-Four/blob/main/assignment/assignment_1.ipynb\" target=\"_parent\"><img src=\"https://colab.research.google.com/assets/colab-badge.svg\" alt=\"Open In Colab\"/></a>"
      ]
    },
    {
      "cell_type": "markdown",
      "source": [
        "Task 01 – Hello KCCS"
      ],
      "metadata": {
        "id": "UOwjFWOulVNm"
      }
    },
    {
      "cell_type": "code",
      "execution_count": null,
      "metadata": {
        "colab": {
          "base_uri": "https://localhost:8080/"
        },
        "id": "xeShUovilEgz",
        "outputId": "87e56be0-e865-497d-e7a0-ece4ffe63f07"
      },
      "outputs": [
        {
          "output_type": "stream",
          "name": "stdout",
          "text": [
            "Enter your name: thanh\n",
            "Hi thanh! Nice to meet you!\n",
            "Welcome to the Programing Course!\n"
          ]
        }
      ],
      "source": [
        "name = input(\"Enter your name: \")\n",
        "print(\"Hi \" + name + \"! Nice to meet you!\")\n",
        "print(\"Welcome to the Programing Course!\")"
      ]
    },
    {
      "cell_type": "markdown",
      "source": [
        "Task 02 – Reversed Words"
      ],
      "metadata": {
        "id": "GIbNyef4mSOO"
      }
    },
    {
      "cell_type": "code",
      "source": [
        "#loop\n",
        "original = input()\n",
        "reverse = \"\"\n",
        "for i in original:\n",
        "  reverse = i + reverse\n",
        "print(reverse)"
      ],
      "metadata": {
        "colab": {
          "base_uri": "https://localhost:8080/"
        },
        "id": "LrnpOZPbmOaI",
        "outputId": "1d22a4c4-b10f-4fc5-ba66-d238ae080bc2"
      },
      "execution_count": null,
      "outputs": [
        {
          "output_type": "stream",
          "name": "stdout",
          "text": [
            "thanh\n",
            "hnaht\n"
          ]
        }
      ]
    },
    {
      "cell_type": "code",
      "source": [
        "#index\n",
        "original = input()\n",
        "reverse = original[::-1]\n",
        "print(reverse)"
      ],
      "metadata": {
        "colab": {
          "base_uri": "https://localhost:8080/"
        },
        "id": "D1BVoJ1YoNlb",
        "outputId": "5a1bc476-f723-485c-f6b4-ae1ce4c9cf69"
      },
      "execution_count": null,
      "outputs": [
        {
          "output_type": "stream",
          "name": "stdout",
          "text": [
            "thanh\n",
            "hnaht\n"
          ]
        }
      ]
    },
    {
      "cell_type": "markdown",
      "source": [
        "Task 03 – Fibonacci Numbers"
      ],
      "metadata": {
        "id": "yeH9uUGBv7pA"
      }
    },
    {
      "cell_type": "code",
      "source": [
        "import getpass\n",
        "#upper_bound = int(input())           #user input is shown with the Fibonacci numbers\n",
        "upper_bound = int(getpass.getpass())  #hide user input\n",
        "n1, n2 = 0, 1\n",
        "count = 0\n",
        "if upper_bound <= 0:\n",
        "   print(\"False\")\n",
        "elif upper_bound == 1:\n",
        "   print(n1)\n",
        "else:\n",
        "   while count < upper_bound:\n",
        "       print(n1)\n",
        "       nth = n1 + n2\n",
        "       n1 = n2\n",
        "       n2 = nth\n",
        "       count += 1"
      ],
      "metadata": {
        "colab": {
          "base_uri": "https://localhost:8080/"
        },
        "id": "Y8ELRqSIv9p4",
        "outputId": "1fe8a017-9d59-498c-ec57-2e4a3ec7bc2a"
      },
      "execution_count": null,
      "outputs": [
        {
          "output_type": "stream",
          "name": "stdout",
          "text": [
            "··········\n",
            "0\n",
            "1\n",
            "1\n",
            "2\n",
            "3\n"
          ]
        }
      ]
    },
    {
      "cell_type": "markdown",
      "source": [
        "Task 04 – Selective Printing"
      ],
      "metadata": {
        "id": "grH5BhMXcAll"
      }
    },
    {
      "cell_type": "code",
      "source": [
        "import getpass\n",
        "upper_bound = int(getpass.getpass())\n",
        "if upper_bound < 0:\n",
        "   print(\"Please choose a non-negative integer\")\n",
        "else:\n",
        "   for i in range(upper_bound + 1):\n",
        "     if i == 0 or i %3 != 0:\n",
        "       print(i)"
      ],
      "metadata": {
        "colab": {
          "base_uri": "https://localhost:8080/"
        },
        "id": "7bfgkikPcCbI",
        "outputId": "f7a86054-1b24-4b20-d4e5-07e819d9f8a3"
      },
      "execution_count": 32,
      "outputs": [
        {
          "output_type": "stream",
          "name": "stdout",
          "text": [
            "··········\n",
            "0\n",
            "1\n",
            "2\n",
            "4\n",
            "5\n",
            "7\n",
            "8\n",
            "10\n"
          ]
        }
      ]
    },
    {
      "cell_type": "markdown",
      "source": [
        "Task 05 – Triangle Checking"
      ],
      "metadata": {
        "id": "CUV42qE7j09_"
      }
    },
    {
      "cell_type": "code",
      "source": [
        "def triangle_check(a, b, c):\n",
        "    if a + b >= c and b + c >= a and c + a >= b:\n",
        "      if a == b == c:\n",
        "        print(\"These sides form an equilateral triangle\")\n",
        "      elif a != b != c:\n",
        "        print(\"These sides form a scalene triangle\")\n",
        "      else:\n",
        "        print(\"These sides form an isosceles triangle\")       \n",
        "    else:\n",
        "        print(\"These sides cannot form a triangle\")\n",
        "        \n",
        "triangle_check(\n",
        "    a = float(input(\"Length of side a: \")),\n",
        "    b = float(input(\"Length of side b: \")),\n",
        "    c = float(input(\"Length of side c: \"))\n",
        ")"
      ],
      "metadata": {
        "id": "u3QflmkRqmrk",
        "outputId": "1c502ec3-998b-4856-f0e8-513cc75da688",
        "colab": {
          "base_uri": "https://localhost:8080/"
        }
      },
      "execution_count": 75,
      "outputs": [
        {
          "output_type": "stream",
          "name": "stdout",
          "text": [
            "Length of side a: -2\n",
            "Length of side b: 1.5\n",
            "Length of side c: 0\n",
            "These sides cannot form a triangle\n"
          ]
        }
      ]
    },
    {
      "cell_type": "markdown",
      "source": [
        "Task 06 – Decimal to Octal Conversion"
      ],
      "metadata": {
        "id": "iJ5YaNPH3TVT"
      }
    },
    {
      "cell_type": "code",
      "source": [
        "def decmal_to_octal(a):\n",
        "  if a >= 0:\n",
        "    while a%8 !=0:\n",
        "      b = a%8\n",
        "      a = a//8\n",
        "      d = str(print(b, end = \"\"))\n",
        "      # print(type(d))\n",
        "      # print(d)      \n",
        "  else:\n",
        "    print(\"Please choose a non-negative integer\")\n",
        "\n",
        "decmal_to_octal(a = int(input(\"Please choose a non-negative integer: \")))\n",
        "\n",
        "print(d)"
      ],
      "metadata": {
        "id": "at9zRoNnL1N0",
        "outputId": "f7bf2bab-e338-40dd-8574-fa9fa7509a12",
        "colab": {
          "base_uri": "https://localhost:8080/",
          "height": 236
        }
      },
      "execution_count": 143,
      "outputs": [
        {
          "output_type": "stream",
          "name": "stdout",
          "text": [
            "Please choose a non-negative integer: 142\n",
            "612"
          ]
        },
        {
          "output_type": "error",
          "ename": "NameError",
          "evalue": "ignored",
          "traceback": [
            "\u001b[0;31m---------------------------------------------------------------------------\u001b[0m",
            "\u001b[0;31mNameError\u001b[0m                                 Traceback (most recent call last)",
            "\u001b[0;32m<ipython-input-143-cde9b3925d0a>\u001b[0m in \u001b[0;36m<module>\u001b[0;34m\u001b[0m\n\u001b[1;32m     12\u001b[0m \u001b[0mdecmal_to_octal\u001b[0m\u001b[0;34m(\u001b[0m\u001b[0ma\u001b[0m \u001b[0;34m=\u001b[0m \u001b[0mint\u001b[0m\u001b[0;34m(\u001b[0m\u001b[0minput\u001b[0m\u001b[0;34m(\u001b[0m\u001b[0;34m\"Please choose a non-negative integer: \"\u001b[0m\u001b[0;34m)\u001b[0m\u001b[0;34m)\u001b[0m\u001b[0;34m)\u001b[0m\u001b[0;34m\u001b[0m\u001b[0;34m\u001b[0m\u001b[0m\n\u001b[1;32m     13\u001b[0m \u001b[0;34m\u001b[0m\u001b[0m\n\u001b[0;32m---> 14\u001b[0;31m \u001b[0mprint\u001b[0m\u001b[0;34m(\u001b[0m\u001b[0md\u001b[0m\u001b[0;34m)\u001b[0m\u001b[0;34m\u001b[0m\u001b[0;34m\u001b[0m\u001b[0m\n\u001b[0m",
            "\u001b[0;31mNameError\u001b[0m: name 'd' is not defined"
          ]
        }
      ]
    },
    {
      "cell_type": "code",
      "source": [
        "def decmal_to_octal(a):\n",
        "  if a >= 0:\n",
        "    while a%8 !=0:\n",
        "      b = a%8\n",
        "      a = a//8\n",
        "      d = print(b, end = \"\")\n",
        "      print(type(d))\n",
        "      str(d)[0]\n",
        "      for i in range(d, -1, -1):\n",
        "        print(i)      \n",
        "  else:\n",
        "    print(\"Please choose a non-negative integer\")\n",
        "\n",
        "decmal_to_octal(a = int(input(\"Please choose a non-negative integer: \")))\n",
        "\n"
      ],
      "metadata": {
        "id": "yYh8JiA30tEa",
        "outputId": "c55e05d2-4109-47eb-b1ad-0c5cdfde7068",
        "colab": {
          "base_uri": "https://localhost:8080/",
          "height": 375
        }
      },
      "execution_count": 135,
      "outputs": [
        {
          "output_type": "stream",
          "name": "stdout",
          "text": [
            "Please choose a non-negative integer: 142\n",
            "6<class 'NoneType'>\n"
          ]
        },
        {
          "output_type": "error",
          "ename": "TypeError",
          "evalue": "ignored",
          "traceback": [
            "\u001b[0;31m---------------------------------------------------------------------------\u001b[0m",
            "\u001b[0;31mTypeError\u001b[0m                                 Traceback (most recent call last)",
            "\u001b[0;32m<ipython-input-135-a45cfebc61fc>\u001b[0m in \u001b[0;36m<module>\u001b[0;34m\u001b[0m\n\u001b[1;32m     12\u001b[0m     \u001b[0mprint\u001b[0m\u001b[0;34m(\u001b[0m\u001b[0;34m\"Please choose a non-negative integer\"\u001b[0m\u001b[0;34m)\u001b[0m\u001b[0;34m\u001b[0m\u001b[0;34m\u001b[0m\u001b[0m\n\u001b[1;32m     13\u001b[0m \u001b[0;34m\u001b[0m\u001b[0m\n\u001b[0;32m---> 14\u001b[0;31m \u001b[0mdecmal_to_octal\u001b[0m\u001b[0;34m(\u001b[0m\u001b[0ma\u001b[0m \u001b[0;34m=\u001b[0m \u001b[0mint\u001b[0m\u001b[0;34m(\u001b[0m\u001b[0minput\u001b[0m\u001b[0;34m(\u001b[0m\u001b[0;34m\"Please choose a non-negative integer: \"\u001b[0m\u001b[0;34m)\u001b[0m\u001b[0;34m)\u001b[0m\u001b[0;34m)\u001b[0m\u001b[0;34m\u001b[0m\u001b[0;34m\u001b[0m\u001b[0m\n\u001b[0m\u001b[1;32m     15\u001b[0m \u001b[0;34m\u001b[0m\u001b[0m\n",
            "\u001b[0;32m<ipython-input-135-a45cfebc61fc>\u001b[0m in \u001b[0;36mdecmal_to_octal\u001b[0;34m(a)\u001b[0m\n\u001b[1;32m      7\u001b[0m       \u001b[0mprint\u001b[0m\u001b[0;34m(\u001b[0m\u001b[0mtype\u001b[0m\u001b[0;34m(\u001b[0m\u001b[0md\u001b[0m\u001b[0;34m)\u001b[0m\u001b[0;34m)\u001b[0m\u001b[0;34m\u001b[0m\u001b[0;34m\u001b[0m\u001b[0m\n\u001b[1;32m      8\u001b[0m       \u001b[0mstr\u001b[0m\u001b[0;34m(\u001b[0m\u001b[0md\u001b[0m\u001b[0;34m)\u001b[0m\u001b[0;34m[\u001b[0m\u001b[0;36m0\u001b[0m\u001b[0;34m]\u001b[0m\u001b[0;34m\u001b[0m\u001b[0;34m\u001b[0m\u001b[0m\n\u001b[0;32m----> 9\u001b[0;31m       \u001b[0;32mfor\u001b[0m \u001b[0mi\u001b[0m \u001b[0;32min\u001b[0m \u001b[0mrange\u001b[0m\u001b[0;34m(\u001b[0m\u001b[0md\u001b[0m\u001b[0;34m,\u001b[0m \u001b[0;34m-\u001b[0m\u001b[0;36m1\u001b[0m\u001b[0;34m,\u001b[0m \u001b[0;34m-\u001b[0m\u001b[0;36m1\u001b[0m\u001b[0;34m)\u001b[0m\u001b[0;34m:\u001b[0m\u001b[0;34m\u001b[0m\u001b[0;34m\u001b[0m\u001b[0m\n\u001b[0m\u001b[1;32m     10\u001b[0m         \u001b[0mprint\u001b[0m\u001b[0;34m(\u001b[0m\u001b[0mi\u001b[0m\u001b[0;34m)\u001b[0m\u001b[0;34m\u001b[0m\u001b[0;34m\u001b[0m\u001b[0m\n\u001b[1;32m     11\u001b[0m   \u001b[0;32melse\u001b[0m\u001b[0;34m:\u001b[0m\u001b[0;34m\u001b[0m\u001b[0;34m\u001b[0m\u001b[0m\n",
            "\u001b[0;31mTypeError\u001b[0m: 'NoneType' object cannot be interpreted as an integer"
          ]
        }
      ]
    },
    {
      "cell_type": "code",
      "source": [
        "buffer = StringIO()\n",
        "sys.stdout = buffer\n",
        "\n",
        "print('This will be stored in the print_output variable')\n",
        "print_output = buffer.getvalue()"
      ],
      "metadata": {
        "id": "CbsadqXKGi3f",
        "outputId": "c4a4b84b-3a94-41ab-e0da-6ffceded61f2",
        "colab": {
          "base_uri": "https://localhost:8080/",
          "height": 236
        }
      },
      "execution_count": 144,
      "outputs": [
        {
          "output_type": "error",
          "ename": "NameError",
          "evalue": "ignored",
          "traceback": [
            "\u001b[0;31m---------------------------------------------------------------------------\u001b[0m",
            "\u001b[0;31mNameError\u001b[0m                                 Traceback (most recent call last)",
            "\u001b[0;32m<ipython-input-144-1fd0c4e96c3e>\u001b[0m in \u001b[0;36m<module>\u001b[0;34m\u001b[0m\n\u001b[0;32m----> 1\u001b[0;31m \u001b[0mbuffer\u001b[0m \u001b[0;34m=\u001b[0m \u001b[0mStringIO\u001b[0m\u001b[0;34m(\u001b[0m\u001b[0;34m)\u001b[0m\u001b[0;34m\u001b[0m\u001b[0;34m\u001b[0m\u001b[0m\n\u001b[0m\u001b[1;32m      2\u001b[0m \u001b[0msys\u001b[0m\u001b[0;34m.\u001b[0m\u001b[0mstdout\u001b[0m \u001b[0;34m=\u001b[0m \u001b[0mbuffer\u001b[0m\u001b[0;34m\u001b[0m\u001b[0;34m\u001b[0m\u001b[0m\n\u001b[1;32m      3\u001b[0m \u001b[0;34m\u001b[0m\u001b[0m\n\u001b[1;32m      4\u001b[0m \u001b[0mprint\u001b[0m\u001b[0;34m(\u001b[0m\u001b[0;34m'This will be stored in the print_output variable'\u001b[0m\u001b[0;34m)\u001b[0m\u001b[0;34m\u001b[0m\u001b[0;34m\u001b[0m\u001b[0m\n\u001b[1;32m      5\u001b[0m \u001b[0mprint_output\u001b[0m \u001b[0;34m=\u001b[0m \u001b[0mbuffer\u001b[0m\u001b[0;34m.\u001b[0m\u001b[0mgetvalue\u001b[0m\u001b[0;34m(\u001b[0m\u001b[0;34m)\u001b[0m\u001b[0;34m\u001b[0m\u001b[0;34m\u001b[0m\u001b[0m\n",
            "\u001b[0;31mNameError\u001b[0m: name 'StringIO' is not defined"
          ]
        }
      ]
    },
    {
      "cell_type": "code",
      "source": [],
      "metadata": {
        "id": "aFh3WuAnIfIW"
      },
      "execution_count": null,
      "outputs": []
    }
  ]
}